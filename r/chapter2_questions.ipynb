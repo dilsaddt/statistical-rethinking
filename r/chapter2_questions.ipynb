{
 "cells": [
  {
   "cell_type": "markdown",
   "id": "4c1d0d41-7fd3-41e4-8674-b98430279712",
   "metadata": {},
   "source": [
    "2E1. Which of the expressions below correspond to the statement: the probability of rain on Monday?"
   ]
  },
  {
   "cell_type": "markdown",
   "id": "cbe4fe3c-6d7a-4324-8fd7-fe0a0851e135",
   "metadata": {},
   "source": [
    "(1) Pr(rain)\n",
    "\n",
    "(2) Pr(rain|Monday)\n",
    "\n",
    "(3) Pr(Monday|rain)\n",
    "\n",
    "(4) Pr(rain, Monday)/ Pr(Monday)"
   ]
  },
  {
   "cell_type": "markdown",
   "id": "81fb73ad-c0ca-4fad-a6dc-a9259091abe3",
   "metadata": {},
   "source": [
    "2E2. Which of the following statements corresponds to the expression: Pr(Monday|rain)?"
   ]
  },
  {
   "cell_type": "markdown",
   "id": "6ccc6149-7ce3-42bf-a1a6-df71b87b9984",
   "metadata": {},
   "source": [
    "(1) The probability of rain on Monday.\n",
    "\n",
    "(2) The probability of rain, given that it is Monday.\n",
    "\n",
    "(3) The probability that it is Monday, given that it is raining.\n",
    "\n",
    "(4) The probability that it is Monday and that it is raining."
   ]
  },
  {
   "cell_type": "markdown",
   "id": "654f495b-5950-4131-8143-1a999a51e0d1",
   "metadata": {},
   "source": [
    "2E3. Which of the expressions below correspond to the statement: the probability that it is Monday,\n",
    "given that it is raining?"
   ]
  },
  {
   "cell_type": "markdown",
   "id": "894874ed-22c7-4e39-b857-c73281876505",
   "metadata": {},
   "source": [
    "(1) Pr(Monday|rain)\n",
    "\n",
    "(2) Pr(rain|Monday)\n",
    "\n",
    "(3) Pr(rain|Monday) Pr(Monday)\n",
    "\n",
    "(4) Pr(rain|Monday) Pr(Monday)/ Pr(rain)\n",
    "\n",
    "(5) Pr(Monday|rain) Pr(rain)/ Pr(Monday)"
   ]
  },
  {
   "cell_type": "markdown",
   "id": "1d32c2f0-823c-4ee4-b8b7-dde1df1c56c9",
   "metadata": {},
   "source": [
    "2E4. The Bayesian statistician Bruno de Finetti (1906–1985) began his 1973 book on probability the-\n",
    "ory with the declaration: “PROBABILITY DOES NOT EXIST.” The capitals appeared in the original,\n",
    "so I imagine de Finetti wanted us to shout this statement. What he meant is that probability is a de-\n",
    "vice for describing uncertainty from the perspective of an observer with limited knowledge; it has no\n",
    "objective reality. Discuss the globe tossing example from the chapter, in light of this statement. What\n",
    "does it mean to say “the probability of water is 0.7”?"
   ]
  },
  {
   "cell_type": "markdown",
   "id": "8f9bfcfa-e9ea-4266-b349-3de0c143071a",
   "metadata": {},
   "source": [
    "2M1. Recall the globe tossing model from the chapter. Compute and plot the grid approximate\n",
    "posterior distribution for each of the following sets of observations. In each case, assume a uniform\n",
    "prior for p."
   ]
  },
  {
   "cell_type": "markdown",
   "id": "7b22f15c-d8e7-4e08-9a71-19c87c494ec1",
   "metadata": {},
   "source": [
    "(1) W, W, W\n",
    "\n",
    "(2) W, W, W, L\n",
    "\n",
    "(3) L, W, W, L, W, W, W"
   ]
  },
  {
   "cell_type": "markdown",
   "id": "a0aa9c7d-5190-45ae-9bd4-bd9e556c0d4b",
   "metadata": {},
   "source": [
    "2M2. Now assume a prior for p that is equal to zero when p < 0.5 and is a positive constant when\n",
    "p ≥ 0.5. Again compute and plot the grid approximate posterior distribution for each of the sets of\n",
    "observations in the problem just above."
   ]
  },
  {
   "cell_type": "markdown",
   "id": "9db5c961-6ddf-4cd9-81fd-ce50dd9489e1",
   "metadata": {},
   "source": [
    "2M3. Suppose there are two globes, one for Earth and one for Mars. The Earth globe is 70% covered\n",
    "in water. The Mars globe is 100% land. Further suppose that one of these globes—you don’t know\n",
    "which—was tossed in the air and produced a “land” observation. Assume that each globe was equally\n",
    "likely to be tossed. Show that the posterior probability that the globe was the Earth, conditional on\n",
    "seeing “land” (Pr(Earth|land)), is 0.23."
   ]
  },
  {
   "cell_type": "markdown",
   "id": "d7a3dfe5-be8a-4a43-a43c-b5f68df5de72",
   "metadata": {},
   "source": [
    "2M4. Suppose you have a deck with only three cards. Each card has two sides, and each side is either\n",
    "black or white. One card has two black sides. The second card has one black and one white side. The\n",
    "third card has two white sides. Now suppose all three cards are placed in a bag and shuffled. Someone\n",
    "reaches into the bag and pulls out a card and places it flat on a table. A black side is shown facing up,\n",
    "but you don’t know the color of the side facing down. Show that the probability that the other side is\n",
    "also black is 2/3. Use the counting method (Section 2 of the chapter) to approach this problem. This\n",
    "means counting up the ways that each card could produce the observed data (a black side facing up\n",
    "on the table)."
   ]
  },
  {
   "cell_type": "markdown",
   "id": "abee79f0-cc3c-4977-944a-366daa070e48",
   "metadata": {},
   "source": [
    "2M5. Now suppose there are four cards: B/B, B/W, W/W, and another B/B. Again suppose a card is\n",
    "drawn from the bag and a black side appears face up. Again calculate the probability that the other\n",
    "side is black."
   ]
  },
  {
   "cell_type": "markdown",
   "id": "d64f2bcb-533d-4aa1-a604-fcfd5d86ca22",
   "metadata": {},
   "source": [
    "2M6. Imagine that black ink is heavy, and so cards with black sides are heavier than cards with white\n",
    "sides. As a result, it’s less likely that a card with black sides is pulled from the bag. So again assume\n",
    "there are three cards: B/B, B/W, and W/W. After experimenting a number of times, you conclude that\n",
    "for every way to pull the B/B card from the bag, there are 2 ways to pull the B/W card and 3 ways to\n",
    "pull the W/W card. Again suppose that a card is pulled and a black side appears face up. Show that\n",
    "the probability the other side is black is now 0.5. Use the counting method, as before."
   ]
  },
  {
   "cell_type": "markdown",
   "id": "550f7fef-4c79-4c4b-8675-ffc5c9965d2e",
   "metadata": {},
   "source": [
    "2M7. Assume again the original card problem, with a single card showing a black side face up. Before\n",
    "looking at the other side, we draw another card from the bag and lay it face up on the table. The face\n",
    "that is shown on the new card is white. Show that the probability that the first card, the one showing\n",
    "a black side, has black on its other side is now 0.75. Use the counting method, if you can. Hint: Treat\n",
    "this like the sequence of globe tosses, counting all the ways to see each observation, for each possible\n",
    "first card."
   ]
  },
  {
   "cell_type": "markdown",
   "id": "91952626-286e-415a-88b9-656a9f02cac0",
   "metadata": {},
   "source": [
    "2H1. Suppose there are two species of panda bear. Both are equally common in the wild and live\n",
    "in the same places. They look exactly alike and eat the same food, and there is yet no genetic assay\n",
    "capable of telling them apart. They differ however in their family sizes. Species A gives birth to twins\n",
    "10% of the time, otherwise birthing a single infant. Species B births twins 20% of the time, otherwise\n",
    "birthing singleton infants. Assume these numbers are known with certainty, from many years of field\n",
    "research.\n",
    "\n",
    "Now suppose you are managing a captive panda breeding program. You have a new female panda\n",
    "of unknown species, and she has just given birth to twins. What is the probability that her next birth\n",
    "will also be twins?"
   ]
  },
  {
   "cell_type": "markdown",
   "id": "bdead205-2884-4ba3-ac4e-e297a09c8672",
   "metadata": {},
   "source": [
    "2H2. Recall all the facts from the problem above. Now compute the probability that the panda we\n",
    "have is from species A, assuming we have observed only the first birth and that it was twins."
   ]
  },
  {
   "cell_type": "markdown",
   "id": "a26a8254-ace8-4620-8ea8-1f4277d2b74f",
   "metadata": {},
   "source": [
    "2H3. Continuing on from the previous problem, suppose the same panda mother has a second birth\n",
    "and that it is not twins, but a singleton infant. Compute the posterior probability that this panda is\n",
    "species A."
   ]
  },
  {
   "cell_type": "markdown",
   "id": "66480078-a1a5-4526-ba6f-7b1d0fbbbc00",
   "metadata": {},
   "source": [
    "2H4. A common boast of Bayesian statisticians is that Bayesian inference makes it easy to use all of\n",
    "the data, even if the data are of different types.\n",
    "So suppose now that a veterinarian comes along who has a new genetic test that she claims can\n",
    "identify the species of our mother panda. But the test, like all tests, is imperfect. This is the information you have about the test:\n",
    "\n",
    "- The probability it correctly identifies a species A panda is 0.8.\n",
    "- The probability it correctly identifies a species B panda is 0.65.\n",
    "\n",
    "The vet administers the test to your panda and tells you that the test is positive for species A. First\n",
    "ignore your previous information from the births and compute the posterior probability that your\n",
    "panda is species A. Then redo your calculation, now using the birth data as well."
   ]
  },
  {
   "cell_type": "code",
   "execution_count": null,
   "id": "388658fd-5ee6-463b-ba7f-d7998f0b398b",
   "metadata": {},
   "outputs": [],
   "source": []
  }
 ],
 "metadata": {
  "kernelspec": {
   "display_name": "R",
   "language": "R",
   "name": "ir"
  },
  "language_info": {
   "codemirror_mode": "r",
   "file_extension": ".r",
   "mimetype": "text/x-r-source",
   "name": "R",
   "pygments_lexer": "r",
   "version": "4.0.3"
  }
 },
 "nbformat": 4,
 "nbformat_minor": 5
}
