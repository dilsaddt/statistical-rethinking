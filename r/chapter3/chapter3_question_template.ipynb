{
 "cells": [
  {
   "cell_type": "markdown",
   "id": "ed681559-da8e-46b9-9a4c-dea1a582cc07",
   "metadata": {},
   "source": [
    "# Easy"
   ]
  },
  {
   "cell_type": "markdown",
   "id": "ee92ba5d-c16e-460d-8066-20fc9f7b9ee1",
   "metadata": {},
   "source": [
    "The Easy problems use the samples from the posterior distribution for the globe tossing example. This code will give you a specific set of samples, so that you can check your answers exactly."
   ]
  },
  {
   "cell_type": "code",
   "execution_count": 4,
   "id": "1d805684-6b63-4e4d-bbe1-c077544b3d73",
   "metadata": {},
   "outputs": [],
   "source": [
    "p_grid <- seq( from=0 , to=1 , length.out=1000 )\n",
    "prior <- rep( 1 , 1000 )\n",
    "likelihood <- dbinom( 6 , size=9 , prob=p_grid )\n",
    "posterior <- likelihood * prior\n",
    "posterior <- posterior / sum(posterior)\n",
    "set.seed(100)\n",
    "samples <- sample( p_grid , prob=posterior , size=1e4 , replace=TRUE )"
   ]
  },
  {
   "cell_type": "markdown",
   "id": "8a39bc0c-8d7a-4f74-bcc2-f7c518b6f0f3",
   "metadata": {},
   "source": [
    "3E1. How much posterior probability lies below p = 0.2?"
   ]
  },
  {
   "cell_type": "markdown",
   "id": "b5b504e4-d33e-4ae7-bc7b-c956a3bde728",
   "metadata": {},
   "source": [
    "3E2. How much posterior probability lies above p = 0.8?"
   ]
  },
  {
   "cell_type": "markdown",
   "id": "3b35d057-5fbf-424c-9710-b96267a3937d",
   "metadata": {},
   "source": [
    "3E3. How much posterior probability lies between p = 0.2 and p = 0.8?"
   ]
  },
  {
   "cell_type": "markdown",
   "id": "305a2cda-0b52-4f9b-a8a8-207eba89f3b3",
   "metadata": {},
   "source": [
    "3E4. 20% of the posterior probability lies below which value of p?"
   ]
  },
  {
   "cell_type": "markdown",
   "id": "26b6aa8e-f74a-4fd4-b151-f0f7f0a5bf32",
   "metadata": {},
   "source": [
    "3E5. 20% of the posterior probability lies above which value of p?"
   ]
  },
  {
   "cell_type": "markdown",
   "id": "19aa2d4a-2e79-4f6f-8141-ca8fa6ffe678",
   "metadata": {},
   "source": [
    "3E6. Which values of p contain the narrowest interval equal to 66% of the posterior probability?"
   ]
  },
  {
   "cell_type": "markdown",
   "id": "5924e16d-c2eb-4f80-b7c4-b095f02e8965",
   "metadata": {},
   "source": [
    "3E7. Which values of p contain 66% of the posterior probability, assuming equal posterior probabil-\n",
    "ity both below and above the interval?"
   ]
  },
  {
   "cell_type": "markdown",
   "id": "eb55a401-75b4-490a-8662-7df6199f97de",
   "metadata": {},
   "source": [
    "# Medium"
   ]
  },
  {
   "cell_type": "markdown",
   "id": "fa757074-54af-4104-ab47-d760ac17d8b9",
   "metadata": {},
   "source": [
    "3M1. Suppose the globe tossing data had turned out to be 8 water in 15 tosses. Construct the poste-\n",
    "rior distribution, using grid approximation. Use the same flat prior as before."
   ]
  },
  {
   "cell_type": "markdown",
   "id": "1b767f91-e7a7-4a29-8cbd-73f5a7b01e48",
   "metadata": {},
   "source": [
    "3M2. Draw 10,000 samples from the grid approximation from above. Then use the samples to cal-\n",
    "culate the 90% HPDI for p."
   ]
  },
  {
   "cell_type": "markdown",
   "id": "ca4bc321-3cc8-4c04-a0c3-c737b1822bbc",
   "metadata": {},
   "source": [
    "3M3. Construct a posterior predictive check for this model and data. This means simulate the distri-\n",
    "bution of samples, averaging over the posterior uncertainty in p. What is the probability of observing\n",
    "8 water in 15 tosses?"
   ]
  },
  {
   "cell_type": "markdown",
   "id": "d7fea3d4-1cf6-42ea-a109-7beba4de740b",
   "metadata": {},
   "source": [
    "3M4. Using the posterior distribution constructed from the new (8/15) data, now calculate the prob-\n",
    "ability of observing 6 water in 9 tosses."
   ]
  },
  {
   "cell_type": "markdown",
   "id": "82037d4e-1028-4354-9dd9-93134fc8e148",
   "metadata": {},
   "source": [
    "3M5. Start over at 3M1, but now use a prior that is zero below p = 0.5 and a constant above p = 0.5.\n",
    "This corresponds to prior information that a majority of the Earth’s surface is water. Repeat each\n",
    "problem above and compare the inferences. What difference does the better prior make? If it helps,\n",
    "compare inferences (using both priors) to the true value p = 0.7."
   ]
  },
  {
   "cell_type": "markdown",
   "id": "e4d4f568-cc21-4ce1-ac48-325ef1170edb",
   "metadata": {},
   "source": [
    "3M6. Suppose you want to estimate the Earth’s proportion of water very precisely. Specifically, you\n",
    "want the 99% percentile interval of the posterior distribution of p to be only 0.05 wide. This means\n",
    "the distance between the upper and lower bound of the interval should be 0.05. How many times will\n",
    "you have to toss the globe to do this?"
   ]
  },
  {
   "cell_type": "markdown",
   "id": "1192d9ad-6956-4574-aea3-4599b40a4bd3",
   "metadata": {},
   "source": [
    "# Hard"
   ]
  },
  {
   "cell_type": "markdown",
   "id": "898a2da4-78b0-49e6-81a8-5aadd5315ecf",
   "metadata": {},
   "source": [
    "The Hard problems here all use the data below. These data indicate the gender (male=1, fe-\n",
    "male=0) of officially reported first and second born children in 100 two-child families."
   ]
  },
  {
   "cell_type": "code",
   "execution_count": 5,
   "id": "862ca04d-6a3c-4285-ad6d-71ee9fda5f62",
   "metadata": {},
   "outputs": [],
   "source": [
    "birth1 <- c(1,0,0,0,1,1,0,1,0,1,0,0,1,1,0,1,1,0,0,0,1,0,0,0,1,0,\n",
    "0,0,0,1,1,1,0,1,0,1,1,1,0,1,0,1,1,0,1,0,0,1,1,0,1,0,0,0,0,0,0,0,\n",
    "1,1,0,1,0,0,1,0,0,0,1,0,0,1,1,1,1,0,1,0,1,1,1,1,1,0,0,1,0,1,1,0,\n",
    "1,0,1,1,1,0,1,1,1,1)\n",
    "birth2 <- c(0,1,0,1,0,1,1,1,0,0,1,1,1,1,1,0,0,1,1,1,0,0,1,1,1,0,\n",
    "1,1,1,0,1,1,1,0,1,0,0,1,1,1,1,0,0,1,0,1,1,1,1,1,1,1,1,1,1,1,1,1,\n",
    "1,1,1,0,1,1,0,1,1,0,1,1,1,0,0,0,0,0,0,1,0,0,0,1,1,0,0,1,0,0,1,1,\n",
    "0,0,0,1,1,1,0,0,0,0)"
   ]
  },
  {
   "cell_type": "markdown",
   "id": "3e9c66c2-ae7b-41ef-b51e-e74bb8f33d36",
   "metadata": {},
   "source": [
    "So for example, the first family in the data reported a boy (1) and then a girl (0). The second family\n",
    "reported a girl (0) and then a boy (1). The third family reported two girls. You can load these two\n",
    "vectors into R’s memory by typing:"
   ]
  },
  {
   "cell_type": "code",
   "execution_count": 6,
   "id": "adad6d3b-2e7b-48bc-958f-81955523a475",
   "metadata": {},
   "outputs": [
    {
     "name": "stderr",
     "output_type": "stream",
     "text": [
      "Loading required package: rstan\n",
      "\n",
      "Loading required package: StanHeaders\n",
      "\n",
      "Loading required package: ggplot2\n",
      "\n",
      "rstan (Version 2.21.2, GitRev: 2e1f913d3ca3)\n",
      "\n",
      "For execution on a local, multicore CPU with excess RAM we recommend calling\n",
      "options(mc.cores = parallel::detectCores()).\n",
      "To avoid recompilation of unchanged Stan programs, we recommend calling\n",
      "rstan_options(auto_write = TRUE)\n",
      "\n",
      "Loading required package: parallel\n",
      "\n",
      "rethinking (Version 2.13)\n",
      "\n",
      "\n",
      "Attaching package: ‘rethinking’\n",
      "\n",
      "\n",
      "The following object is masked from ‘package:stats’:\n",
      "\n",
      "    rstudent\n",
      "\n",
      "\n"
     ]
    }
   ],
   "source": [
    "library(rethinking)\n",
    "data(homeworkch3)"
   ]
  },
  {
   "cell_type": "markdown",
   "id": "7da7ac24-ec29-451d-ab5c-de7a7a21b454",
   "metadata": {},
   "source": [
    "Use these vectors as data. So for example to compute the total number of boys born across all of these\n",
    "births, you could use:"
   ]
  },
  {
   "cell_type": "code",
   "execution_count": 8,
   "id": "6399996a-5862-4fc3-9039-144f701c3a73",
   "metadata": {},
   "outputs": [
    {
     "data": {
      "text/html": [
       "111"
      ],
      "text/latex": [
       "111"
      ],
      "text/markdown": [
       "111"
      ],
      "text/plain": [
       "[1] 111"
      ]
     },
     "metadata": {},
     "output_type": "display_data"
    }
   ],
   "source": [
    "sum(birth1) + sum(birth2)"
   ]
  },
  {
   "cell_type": "markdown",
   "id": "32d4e039-6bf4-4335-8157-16f12720b2ed",
   "metadata": {},
   "source": [
    "3H1. Using grid approximation, compute the posterior distribution for the probability of a birth\n",
    "being a boy. Assume a uniform prior probability. Which parameter value maximizes the posterior\n",
    "probability?"
   ]
  },
  {
   "cell_type": "markdown",
   "id": "ca24ee34-65f2-4028-97a5-8e4b4e57a22d",
   "metadata": {},
   "source": [
    "3H2. Using the sample function, draw 10,000 random parameter values from the posterior distri-\n",
    "bution you calculated above. Use these samples to estimate the 50%, 89%, and 97% highest posterior\n",
    "density intervals."
   ]
  },
  {
   "cell_type": "markdown",
   "id": "ccb79894-6de2-49bb-89cb-2d44b64cae11",
   "metadata": {},
   "source": [
    "3H3. Use rbinom to simulate 10,000 replicates of 200 births. You should end up with 10,000 num-\n",
    "bers, each one a count of boys out of 200 births. Compare the distribution of predicted numbers\n",
    "of boys to the actual count in the data (111 boys out of 200 births). There are many good ways to\n",
    "visualize the simulations, but the dens command (part of the rethinking package) is probably the\n",
    "easiest way in this case. Does it look like the model fits the data well? That is, does the distribution\n",
    "of predictions include the actual observation as a central, likely outcome?"
   ]
  },
  {
   "cell_type": "markdown",
   "id": "5349bd89-276f-4e94-a07c-54747b05413f",
   "metadata": {},
   "source": [
    "3H4. Now compare 10,000 counts of boys from 100 simulated first borns only to the number of boys\n",
    "in the first births, birth1 . How does the model look in this light?"
   ]
  },
  {
   "cell_type": "markdown",
   "id": "d9634564-17aa-4063-8954-3fea62ce1141",
   "metadata": {},
   "source": [
    "3H5. The model assumes that sex of first and second births are independent. To check this assump-\n",
    "tion, focus now on second births that followed female first borns. Compare 10,000 simulated counts\n",
    "of boys to only those second births that followed girls. To do this correctly, you need to count the\n",
    "number of first borns who were girls and simulate that many births, 10,000 times. Compare the\n",
    "counts of boys in your simulations to the actual observed count of boys following girls. How does the\n",
    "model look in this light? Any guesses what is going on in these data?"
   ]
  },
  {
   "cell_type": "code",
   "execution_count": null,
   "id": "f5125679-fd37-433e-89e3-d8497e3d9c57",
   "metadata": {},
   "outputs": [],
   "source": []
  }
 ],
 "metadata": {
  "kernelspec": {
   "display_name": "R",
   "language": "R",
   "name": "ir"
  },
  "language_info": {
   "codemirror_mode": "r",
   "file_extension": ".r",
   "mimetype": "text/x-r-source",
   "name": "R",
   "pygments_lexer": "r",
   "version": "4.0.3"
  }
 },
 "nbformat": 4,
 "nbformat_minor": 5
}
