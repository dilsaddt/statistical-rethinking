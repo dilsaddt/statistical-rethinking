{
 "cells": [
  {
   "cell_type": "markdown",
   "id": "ed681559-da8e-46b9-9a4c-dea1a582cc07",
   "metadata": {},
   "source": [
    "# Easy"
   ]
  },
  {
   "cell_type": "markdown",
   "id": "ee92ba5d-c16e-460d-8066-20fc9f7b9ee1",
   "metadata": {},
   "source": [
    "The Easy problems use the samples from the posterior distribution for the globe tossing example. This code will give you a specific set of samples, so that you can check your answers exactly."
   ]
  },
  {
   "cell_type": "code",
   "execution_count": 172,
   "metadata": {},
   "outputs": [],
   "source": [
    "# imports\n",
    "import matplotlib.pyplot as plt\n",
    "import tensorflow as tf\n",
    "import tensorflow_probability as tfp\n",
    "tfd = tfp.distributions\n",
    "import numpy as np\n",
    "import arviz as az"
   ]
  },
  {
   "cell_type": "code",
   "execution_count": 173,
   "metadata": {},
   "outputs": [],
   "source": [
    "@tf.function\n",
    "def grid_approx(grid_size, num_draws, num_successes, prior=tf.ones([1000, 1])):\n",
    "    # define grid\n",
    "    p_grid = tf.linspace(start=0., stop=1., num=grid_size)\n",
    "    p_grid = tf.expand_dims(p_grid, 1)\n",
    "    # compute likelihood at each value in grid\n",
    "    likelihood = tfd.Binomial(num_draws, probs=p_grid).prob(num_successes)\n",
    "    # compute product of likelihood and prior\n",
    "    unstd_posterior = likelihood * prior\n",
    "    # standardize the posterior, so it sums to 1\n",
    "    posterior = unstd_posterior / tf.math.reduce_sum(unstd_posterior)\n",
    "    return p_grid, posterior\n",
    "\n",
    "@tf.function\n",
    "def generate_posterior_samples(num_samples, posterior, grid_size):\n",
    "    samples = tfd.Categorical(probs=tf.reshape(posterior, [grid_size])).sample(num_samples)\n",
    "    posterior_samples = samples / (grid_size - 1)\n",
    "    return posterior_samples"
   ]
  },
  {
   "cell_type": "code",
   "execution_count": 174,
   "metadata": {},
   "outputs": [],
   "source": [
    "tf.random.set_seed(123)\n",
    "grid_size = 1000\n",
    "num_draws = 9\n",
    "num_successes = 6\n",
    "num_samples = 1e5\n",
    "(p_grid, posterior) = grid_approx(grid_size, num_draws, num_successes)\n",
    "samples = generate_posterior_samples(num_samples, posterior, grid_size)"
   ]
  },
  {
   "cell_type": "markdown",
   "id": "8a39bc0c-8d7a-4f74-bcc2-f7c518b6f0f3",
   "metadata": {},
   "source": [
    "3E1. How much posterior probability lies below p = 0.2?"
   ]
  },
  {
   "cell_type": "code",
   "execution_count": 175,
   "metadata": {},
   "outputs": [
    {
     "data": {
      "text/plain": [
       "0.00085609517"
      ]
     },
     "execution_count": 175,
     "metadata": {},
     "output_type": "execute_result"
    }
   ],
   "source": [
    "# for posterior\n",
    "# numpy\n",
    "np.sum(posterior[p_grid < 0.2])"
   ]
  },
  {
   "cell_type": "code",
   "execution_count": 176,
   "metadata": {},
   "outputs": [
    {
     "data": {
      "text/plain": [
       "<tf.Tensor: shape=(), dtype=float32, numpy=0.00085609517>"
      ]
     },
     "execution_count": 176,
     "metadata": {},
     "output_type": "execute_result"
    }
   ],
   "source": [
    "# for posterior\n",
    "# tfp\n",
    "tf.reduce_sum(posterior[tf.math.less(p_grid, 0.2)])"
   ]
  },
  {
   "cell_type": "code",
   "execution_count": 177,
   "metadata": {},
   "outputs": [
    {
     "data": {
      "text/plain": [
       "0.00074"
      ]
     },
     "execution_count": 177,
     "metadata": {},
     "output_type": "execute_result"
    }
   ],
   "source": [
    "# for posterior samples\n",
    "# numpy\n",
    "np.sum(samples < 0.2) / np.size(samples)"
   ]
  },
  {
   "cell_type": "code",
   "execution_count": 178,
   "metadata": {},
   "outputs": [
    {
     "data": {
      "text/plain": [
       "<tf.Tensor: shape=(), dtype=float64, numpy=0.00074>"
      ]
     },
     "execution_count": 178,
     "metadata": {},
     "output_type": "execute_result"
    }
   ],
   "source": [
    "# for posterior samples\n",
    "# tfp\n",
    "cond = tf.cast(tf.math.less(samples, 0.2), dtype=tf.int32)\n",
    "tf.reduce_sum(cond) / tf.size(samples)"
   ]
  },
  {
   "cell_type": "markdown",
   "id": "b5b504e4-d33e-4ae7-bc7b-c956a3bde728",
   "metadata": {},
   "source": [
    "3E2. How much posterior probability lies above p = 0.8?"
   ]
  },
  {
   "cell_type": "code",
   "execution_count": 179,
   "metadata": {},
   "outputs": [
    {
     "data": {
      "text/plain": [
       "<tf.Tensor: shape=(), dtype=float32, numpy=0.12034495>"
      ]
     },
     "execution_count": 179,
     "metadata": {},
     "output_type": "execute_result"
    }
   ],
   "source": [
    "# posterior\n",
    "tf.reduce_sum(posterior[tf.math.greater(p_grid, 0.8)])"
   ]
  },
  {
   "cell_type": "code",
   "execution_count": 180,
   "metadata": {},
   "outputs": [
    {
     "data": {
      "text/plain": [
       "<tf.Tensor: shape=(), dtype=float64, numpy=0.12145>"
      ]
     },
     "execution_count": 180,
     "metadata": {},
     "output_type": "execute_result"
    }
   ],
   "source": [
    "# posterior samples\n",
    "cond = tf.cast(tf.math.greater(samples, 0.8), dtype=tf.int32)\n",
    "tf.reduce_sum(cond) / tf.size(samples)"
   ]
  },
  {
   "cell_type": "markdown",
   "id": "3b35d057-5fbf-424c-9710-b96267a3937d",
   "metadata": {},
   "source": [
    "3E3. How much posterior probability lies between p = 0.2 and p = 0.8?"
   ]
  },
  {
   "cell_type": "code",
   "execution_count": 181,
   "metadata": {},
   "outputs": [
    {
     "data": {
      "text/plain": [
       "<tf.Tensor: shape=(), dtype=float32, numpy=0.878799>"
      ]
     },
     "execution_count": 181,
     "metadata": {},
     "output_type": "execute_result"
    }
   ],
   "source": [
    "# posterior\n",
    "cond = tf.logical_and(tf.math.greater(p_grid, 0.2), tf.math.less(p_grid, 0.8))\n",
    "tf.reduce_sum(posterior[cond])"
   ]
  },
  {
   "cell_type": "code",
   "execution_count": 182,
   "metadata": {},
   "outputs": [
    {
     "data": {
      "text/plain": [
       "<tf.Tensor: shape=(), dtype=float64, numpy=0.87781>"
      ]
     },
     "execution_count": 182,
     "metadata": {},
     "output_type": "execute_result"
    }
   ],
   "source": [
    "# posterior samples\n",
    "cond = tf.cast(tf.logical_and(tf.math.greater(samples, 0.2), tf.math.less(samples, 0.8)), dtype=tf.int32)\n",
    "tf.reduce_sum(cond) / tf.size(samples)"
   ]
  },
  {
   "cell_type": "markdown",
   "id": "305a2cda-0b52-4f9b-a8a8-207eba89f3b3",
   "metadata": {},
   "source": [
    "3E4. 20% of the posterior probability lies below which value of p?"
   ]
  },
  {
   "cell_type": "code",
   "execution_count": 183,
   "metadata": {},
   "outputs": [
    {
     "name": "stdout",
     "output_type": "stream",
     "text": [
      "0.5165165165165165\n"
     ]
    }
   ],
   "source": [
    "quants = tfp.stats.quantiles(samples, 5)\n",
    "print(quants[1].numpy())"
   ]
  },
  {
   "cell_type": "markdown",
   "id": "26b6aa8e-f74a-4fd4-b151-f0f7f0a5bf32",
   "metadata": {},
   "source": [
    "3E5. 20% of the posterior probability lies above which value of p?"
   ]
  },
  {
   "cell_type": "code",
   "execution_count": 184,
   "metadata": {},
   "outputs": [
    {
     "name": "stdout",
     "output_type": "stream",
     "text": [
      "0.7607607607607607\n"
     ]
    }
   ],
   "source": [
    "quants = tfp.stats.quantiles(samples, 5)\n",
    "print(quants[4].numpy())"
   ]
  },
  {
   "cell_type": "markdown",
   "id": "19aa2d4a-2e79-4f6f-8141-ca8fa6ffe678",
   "metadata": {},
   "source": [
    "3E6. Which values of p contain the narrowest interval equal to 66% of the posterior probability?"
   ]
  },
  {
   "cell_type": "code",
   "execution_count": 185,
   "metadata": {},
   "outputs": [
    {
     "data": {
      "text/plain": [
       "array([0.52352352, 0.7957958 ])"
      ]
     },
     "execution_count": 185,
     "metadata": {},
     "output_type": "execute_result"
    }
   ],
   "source": [
    "# note that az.hdi seems to differ slightly from McElreath's hpdi\n",
    "az.hdi(samples.numpy(), hdi_prob=0.66)"
   ]
  },
  {
   "cell_type": "markdown",
   "id": "5924e16d-c2eb-4f80-b7c4-b095f02e8965",
   "metadata": {},
   "source": [
    "3E7. Which values of p contain 66% of the posterior probability, assuming equal posterior probabil-\n",
    "ity both below and above the interval?"
   ]
  },
  {
   "cell_type": "code",
   "execution_count": 186,
   "metadata": {},
   "outputs": [
    {
     "name": "stdout",
     "output_type": "stream",
     "text": [
      "66% of posterior probability lies between p=0.50 and p=0.77\n"
     ]
    }
   ],
   "source": [
    "quants = tfp.stats.quantiles(samples, 100)\n",
    "print(\"66% of posterior probability lies between p={:1.2f} and p={:1.2f}\".format(quants[17].numpy(),quants[83].numpy()))"
   ]
  },
  {
   "cell_type": "markdown",
   "id": "eb55a401-75b4-490a-8662-7df6199f97de",
   "metadata": {},
   "source": [
    "# Medium"
   ]
  },
  {
   "cell_type": "markdown",
   "id": "fa757074-54af-4104-ab47-d760ac17d8b9",
   "metadata": {},
   "source": [
    "3M1. Suppose the globe tossing data had turned out to be 8 water in 15 tosses. Construct the posterior distribution, using grid approximation. Use the same flat prior as before."
   ]
  },
  {
   "cell_type": "code",
   "execution_count": 187,
   "metadata": {},
   "outputs": [],
   "source": [
    "grid_size = 1000\n",
    "num_draws = 15\n",
    "num_successes = 8\n",
    "(p_grid, posterior) = grid_approx(grid_size, num_draws, num_successes)"
   ]
  },
  {
   "cell_type": "markdown",
   "id": "1b767f91-e7a7-4a29-8cbd-73f5a7b01e48",
   "metadata": {},
   "source": [
    "3M2. Draw 10,000 samples from the grid approximation from above. Then use the samples to calculate the 90% HPDI for p."
   ]
  },
  {
   "cell_type": "code",
   "execution_count": 188,
   "metadata": {},
   "outputs": [
    {
     "data": {
      "text/plain": [
       "array([0.33433433, 0.72172172])"
      ]
     },
     "execution_count": 188,
     "metadata": {},
     "output_type": "execute_result"
    }
   ],
   "source": [
    "num_samples = 1e5\n",
    "samples = generate_posterior_samples(num_samples, posterior, grid_size)\n",
    "az.hdi(samples.numpy(), hdi_prob=0.90)"
   ]
  },
  {
   "cell_type": "markdown",
   "id": "ca4bc321-3cc8-4c04-a0c3-c737b1822bbc",
   "metadata": {},
   "source": [
    "3M3. Construct a posterior predictive check for this model and data. This means simulate the distribution of samples, averaging over the posterior uncertainty in p. What is the probability of observing\n",
    "8 water in 15 tosses?"
   ]
  },
  {
   "cell_type": "code",
   "execution_count": 189,
   "metadata": {},
   "outputs": [],
   "source": [
    "@tf.function\n",
    "def posterior_prediction(num_draws, obs, posterior_samples):\n",
    "    w = tfd.Binomial(num_draws, probs=posterior_samples).sample(1)\n",
    "    return tf.reduce_sum(tf.cast(w[0,:] == obs, dtype=tf.int32)) / tf.size(w)\n"
   ]
  },
  {
   "cell_type": "code",
   "execution_count": 190,
   "metadata": {},
   "outputs": [
    {
     "data": {
      "text/plain": [
       "<tf.Tensor: shape=(), dtype=float64, numpy=0.14675000000000002>"
      ]
     },
     "execution_count": 190,
     "metadata": {},
     "output_type": "execute_result"
    }
   ],
   "source": [
    "posterior_prediction(15, 8, samples)"
   ]
  },
  {
   "cell_type": "markdown",
   "id": "d7fea3d4-1cf6-42ea-a109-7beba4de740b",
   "metadata": {},
   "source": [
    "3M4. Using the posterior distribution constructed from the new (8/15) data, now calculate the probability of observing 6 water in 9 tosses."
   ]
  },
  {
   "cell_type": "code",
   "execution_count": 191,
   "metadata": {},
   "outputs": [
    {
     "data": {
      "text/plain": [
       "<tf.Tensor: shape=(), dtype=float64, numpy=0.17606000000000002>"
      ]
     },
     "execution_count": 191,
     "metadata": {},
     "output_type": "execute_result"
    }
   ],
   "source": [
    "grid_size = 1000\n",
    "num_draws = 9\n",
    "num_successes = 6\n",
    "posterior_prediction(num_draws, num_successes, samples)"
   ]
  },
  {
   "cell_type": "code",
   "execution_count": 192,
   "metadata": {},
   "outputs": [],
   "source": [
    "# check answer by using posterior and grid approximation\n",
    "@tf.function\n",
    "def predict_grid_approx(grid_size, num_draws, num_successes, prior):\n",
    "    # define grid\n",
    "    p_grid = tf.linspace(start=0., stop=1., num=grid_size)\n",
    "    p_grid = tf.expand_dims(p_grid, 1)\n",
    "    # compute likelihood at each value in grid\n",
    "    likelihood = tfd.Binomial(num_draws, probs=p_grid).prob(num_successes)\n",
    "    return tf.reduce_sum(likelihood * prior)\n"
   ]
  },
  {
   "cell_type": "code",
   "execution_count": 193,
   "metadata": {},
   "outputs": [
    {
     "data": {
      "text/plain": [
       "<tf.Tensor: shape=(), dtype=float32, numpy=0.17638987>"
      ]
     },
     "execution_count": 193,
     "metadata": {},
     "output_type": "execute_result"
    }
   ],
   "source": [
    "predict_grid_approx(1000, 9, 6, posterior)"
   ]
  },
  {
   "cell_type": "markdown",
   "id": "82037d4e-1028-4354-9dd9-93134fc8e148",
   "metadata": {},
   "source": [
    "3M5. Start over at 3M1, but now use a prior that is zero below p = 0.5 and a constant above p = 0.5.\n",
    "This corresponds to prior information that a majority of the Earth’s surface is water. Repeat each\n",
    "problem above and compare the inferences. What difference does the better prior make? If it helps,\n",
    "compare inferences (using both priors) to the true value p = 0.7."
   ]
  },
  {
   "cell_type": "code",
   "execution_count": 194,
   "metadata": {},
   "outputs": [],
   "source": [
    "prior = tf.constant(np.expand_dims(np.array([0 if i < 0.5 else 1 for i in p_grid], dtype=np.float32), 1))"
   ]
  },
  {
   "cell_type": "code",
   "execution_count": 195,
   "metadata": {},
   "outputs": [],
   "source": [
    "#3m1 with new prior\n",
    "grid_size = 1000\n",
    "num_draws = 15\n",
    "num_successes = 8\n",
    "(p_grid, posterior) = grid_approx(grid_size, num_draws, num_successes, prior)"
   ]
  },
  {
   "cell_type": "code",
   "execution_count": 196,
   "metadata": {},
   "outputs": [
    {
     "data": {
      "text/plain": [
       "array([0.5005005 , 0.71171171])"
      ]
     },
     "execution_count": 196,
     "metadata": {},
     "output_type": "execute_result"
    }
   ],
   "source": [
    "#3m2 with new prior\n",
    "num_samples = 1e5\n",
    "samples = generate_posterior_samples(num_samples, posterior, grid_size)\n",
    "az.hdi(samples.numpy(), hdi_prob=0.90)"
   ]
  },
  {
   "cell_type": "code",
   "execution_count": 197,
   "metadata": {},
   "outputs": [
    {
     "data": {
      "text/plain": [
       "<tf.Tensor: shape=(), dtype=float64, numpy=0.15780000000000002>"
      ]
     },
     "execution_count": 197,
     "metadata": {},
     "output_type": "execute_result"
    }
   ],
   "source": [
    "#3m3 with new prior\n",
    "posterior_prediction(15, 8, samples)"
   ]
  },
  {
   "cell_type": "code",
   "execution_count": 198,
   "metadata": {},
   "outputs": [
    {
     "data": {
      "text/plain": [
       "<tf.Tensor: shape=(), dtype=float64, numpy=0.23153>"
      ]
     },
     "execution_count": 198,
     "metadata": {},
     "output_type": "execute_result"
    }
   ],
   "source": [
    "#3m4 with new prior\n",
    "grid_size = 1000\n",
    "num_draws = 9\n",
    "num_successes = 6\n",
    "posterior_prediction(num_draws, num_successes, samples)"
   ]
  },
  {
   "cell_type": "markdown",
   "id": "e4d4f568-cc21-4ce1-ac48-325ef1170edb",
   "metadata": {},
   "source": [
    "3M6. Suppose you want to estimate the Earth’s proportion of water very precisely. Specifically, you\n",
    "want the 99% percentile interval of the posterior distribution of p to be only 0.05 wide. This means\n",
    "the distance between the upper and lower bound of the interval should be 0.05. How many times will\n",
    "you have to toss the globe to do this?"
   ]
  },
  {
   "cell_type": "code",
   "execution_count": 199,
   "metadata": {},
   "outputs": [
    {
     "data": {
      "text/plain": [
       "array([0.6976977, 0.7027027])"
      ]
     },
     "execution_count": 199,
     "metadata": {},
     "output_type": "execute_result"
    }
   ],
   "source": [
    "# assuming p = 0.7\n",
    "grid_size = 1000\n",
    "num_draws = 160000\n",
    "num_successes = 7 / 10 * num_draws\n",
    "(p_grid, posterior) = grid_approx(grid_size, num_draws, num_successes)\n",
    "samples = generate_posterior_samples(num_samples, posterior, grid_size)\n",
    "az.hdi(samples.numpy(), hdi_prob=0.99)\n",
    "\n",
    "# there's obviously a much more elegant way to do this"
   ]
  },
  {
   "cell_type": "markdown",
   "id": "1192d9ad-6956-4574-aea3-4599b40a4bd3",
   "metadata": {},
   "source": [
    "# Hard"
   ]
  },
  {
   "cell_type": "markdown",
   "id": "898a2da4-78b0-49e6-81a8-5aadd5315ecf",
   "metadata": {},
   "source": [
    "The Hard problems here all use the data below. These data indicate the gender (male=1, female=0) of officially reported first and second born children in 100 two-child families."
   ]
  },
  {
   "cell_type": "markdown",
   "metadata": {},
   "source": [
    "birth1 <- c(1,0,0,0,1,1,0,1,0,1,0,0,1,1,0,1,1,0,0,0,1,0,0,0,1,0,\n",
    "0,0,0,1,1,1,0,1,0,1,1,1,0,1,0,1,1,0,1,0,0,1,1,0,1,0,0,0,0,0,0,0,\n",
    "1,1,0,1,0,0,1,0,0,0,1,0,0,1,1,1,1,0,1,0,1,1,1,1,1,0,0,1,0,1,1,0,\n",
    "1,0,1,1,1,0,1,1,1,1)\n",
    "\n",
    "birth2 <- c(0,1,0,1,0,1,1,1,0,0,1,1,1,1,1,0,0,1,1,1,0,0,1,1,1,0,\n",
    "1,1,1,0,1,1,1,0,1,0,0,1,1,1,1,0,0,1,0,1,1,1,1,1,1,1,1,1,1,1,1,1,\n",
    "1,1,1,0,1,1,0,1,1,0,1,1,1,0,0,0,0,0,0,1,0,0,0,1,1,0,0,1,0,0,1,1,\n",
    "0,0,0,1,1,1,0,0,0,0)"
   ]
  },
  {
   "cell_type": "markdown",
   "id": "3e9c66c2-ae7b-41ef-b51e-e74bb8f33d36",
   "metadata": {},
   "source": [
    "So for example, the first family in the data reported a boy (1) and then a girl (0). The second family\n",
    "reported a girl (0) and then a boy (1). The third family reported two girls. You can load these two\n",
    "vectors into R’s memory by typing:"
   ]
  },
  {
   "cell_type": "markdown",
   "metadata": {},
   "source": [
    "library(rethinking)\n",
    "data(homeworkch3)"
   ]
  },
  {
   "cell_type": "markdown",
   "id": "7da7ac24-ec29-451d-ab5c-de7a7a21b454",
   "metadata": {},
   "source": [
    "Use these vectors as data. So for example to compute the total number of boys born across all of these\n",
    "births, you could use:"
   ]
  },
  {
   "cell_type": "markdown",
   "metadata": {},
   "source": [
    "sum(birth1) + sum(birth2)"
   ]
  },
  {
   "cell_type": "code",
   "execution_count": 200,
   "metadata": {},
   "outputs": [],
   "source": [
    "birth1 = tf.constant([1,0,0,0,1,1,0,1,0,1,0,0,1,1,0,1,1,0,0,0,1,0,0,0,1,0,0,0,0,1,1,1,0,1,0,1,1,1,0,1,0,1,1,0,1,0,0,1,1,0,1,0,0,0,0,0,0,0, 1,1,0,1,0,0,1,0,0,0,1,0,0,1,1,1,1,0,1,0,1,1,1,1,1,0,0,1,0,1,1,0, 1,0,1,1,1,0,1,1,1,1])\n",
    "birth2 = tf.constant([0,1,0,1,0,1,1,1,0,0,1,1,1,1,1,0,0,1,1,1,0,0,1,1,1,0,1,1,1,0,1,1,1,0,1,0,0,1,1,1,1,0,0,1,0,1,1,1,1,1,1,1,1,1,1,1,1,1, 1,1,1,0,1,1,0,1,1,0,1,1,1,0,0,0,0,0,0,1,0,0,0,1,1,0,0,1,0,0,1,1, 0,0,0,1,1,1,0,0,0,0])"
   ]
  },
  {
   "cell_type": "markdown",
   "id": "32d4e039-6bf4-4335-8157-16f12720b2ed",
   "metadata": {},
   "source": [
    "3H1. Using grid approximation, compute the posterior distribution for the probability of a birth\n",
    "being a boy. Assume a uniform prior probability. Which parameter value maximizes the posterior\n",
    "probability?"
   ]
  },
  {
   "cell_type": "code",
   "execution_count": 201,
   "metadata": {},
   "outputs": [
    {
     "name": "stdout",
     "output_type": "stream",
     "text": [
      "[0.5545545]\n"
     ]
    }
   ],
   "source": [
    "grid_size = 1000\n",
    "num_children = tf.cast(tf.size(birth1) + tf.size(birth2), dtype=tf.float32)\n",
    "num_boys = tf.cast(tf.reduce_sum(birth1) + tf.reduce_sum(birth2), dtype=tf.float32)\n",
    "(p_grid, posterior) = grid_approx(grid_size, num_children, num_boys)\n",
    "map = p_grid[tf.math.argmax(posterior[:,0])]\n",
    "print(map.numpy())"
   ]
  },
  {
   "cell_type": "markdown",
   "id": "ca24ee34-65f2-4028-97a5-8e4b4e57a22d",
   "metadata": {},
   "source": [
    "3H2. Using the sample function, draw 10,000 random parameter values from the posterior distribution you calculated above. Use these samples to estimate the 50%, 89%, and 97% highest posterior\n",
    "density intervals."
   ]
  },
  {
   "cell_type": "code",
   "execution_count": 202,
   "metadata": {},
   "outputs": [
    {
     "name": "stdout",
     "output_type": "stream",
     "text": [
      "50% HDPI: [0.53053053 0.57757758]\n",
      "89% HDPI: [0.4964965  0.60760761]\n",
      "97% HDPI: [0.47947948 0.63063063]\n"
     ]
    }
   ],
   "source": [
    "num_samples = 10000\n",
    "samples = generate_posterior_samples(num_samples, posterior, grid_size)\n",
    "print(\"50% HDPI: {}\\n89% HDPI: {}\\n97% HDPI: {}\".format(az.hdi(samples.numpy(), hdi_prob=0.5), \n",
    "                                                        az.hdi(samples.numpy(), hdi_prob=0.89), \n",
    "                                                        az.hdi(samples.numpy(), hdi_prob=0.97)))\n"
   ]
  },
  {
   "cell_type": "markdown",
   "id": "ccb79894-6de2-49bb-89cb-2d44b64cae11",
   "metadata": {},
   "source": [
    "3H3. Use rbinom to simulate 10,000 replicates of 200 births. You should end up with 10,000 numbers, each one a count of boys out of 200 births. Compare the distribution of predicted numbers\n",
    "of boys to the actual count in the data (111 boys out of 200 births). There are many good ways to\n",
    "visualize the simulations, but the dens command (part of the rethinking package) is probably the\n",
    "easiest way in this case. Does it look like the model fits the data well? That is, does the distribution\n",
    "of predictions include the actual observation as a central, likely outcome?"
   ]
  },
  {
   "cell_type": "code",
   "execution_count": 203,
   "metadata": {},
   "outputs": [],
   "source": [
    "@tf.function\n",
    "def posterior_prediction_simulation(num_draws, posterior_samples):\n",
    "    return tfd.Binomial(num_draws, probs=posterior_samples).sample(1)\n"
   ]
  },
  {
   "cell_type": "code",
   "execution_count": 204,
   "metadata": {},
   "outputs": [
    {
     "data": {
      "image/png": "[encoded data removed]",
      "text/plain": [
       "<Figure size 432x288 with 1 Axes>"
      ]
     },
     "metadata": {
      "needs_background": "light"
     },
     "output_type": "display_data"
    }
   ],
   "source": [
    "sim = posterior_prediction_simulation(200, samples)\n",
    "_, ax = plt.subplots()\n",
    "az.plot_kde(sim.numpy());\n",
    "# fits the data well"
   ]
  },
  {
   "cell_type": "markdown",
   "id": "5349bd89-276f-4e94-a07c-54747b05413f",
   "metadata": {},
   "source": [
    "3H4. Now compare 10,000 counts of boys from 100 simulated first borns only to the number of boys\n",
    "in the first births, birth1 . How does the model look in this light?"
   ]
  },
  {
   "cell_type": "code",
   "execution_count": 205,
   "metadata": {},
   "outputs": [
    {
     "name": "stdout",
     "output_type": "stream",
     "text": [
      "51 out of 100 first borns are boys\n"
     ]
    }
   ],
   "source": [
    "print(\"{:d} out of 100 first borns are boys\".format(np.sum(birth1)))"
   ]
  },
  {
   "cell_type": "code",
   "execution_count": 206,
   "metadata": {},
   "outputs": [
    {
     "data": {
      "image/png": "[encoded data removed]",
      "text/plain": [
       "<Figure size 432x288 with 1 Axes>"
      ]
     },
     "metadata": {
      "needs_background": "light"
     },
     "output_type": "display_data"
    }
   ],
   "source": [
    "sim = posterior_prediction_simulation(100, samples)\n",
    "_, ax = plt.subplots()\n",
    "az.plot_kde(sim.numpy());\n",
    "# simulations from the posterior for all male births don't fit first born data that well"
   ]
  },
  {
   "cell_type": "markdown",
   "id": "d9634564-17aa-4063-8954-3fea62ce1141",
   "metadata": {},
   "source": [
    "3H5. The model assumes that sex of first and second births are independent. To check this assumption, focus now on second births that followed female first borns. Compare 10,000 simulated counts\n",
    "of boys to only those second births that followed girls. To do this correctly, you need to count the\n",
    "number of first borns who were girls and simulate that many births, 10,000 times. Compare the\n",
    "counts of boys in your simulations to the actual observed count of boys following girls. How does the\n",
    "model look in this light? Any guesses what is going on in these data?"
   ]
  },
  {
   "cell_type": "code",
   "execution_count": 207,
   "id": "f5125679-fd37-433e-89e3-d8497e3d9c57",
   "metadata": {},
   "outputs": [
    {
     "name": "stdout",
     "output_type": "stream",
     "text": [
      "There were 49 first born girls.\n",
      "When we consider these parents' second births, 39 were boys and 10 were girls\n"
     ]
    }
   ],
   "source": [
    "female_first_bool = tf.math.logical_not(tf.cast(birth1, dtype=tf.bool))\n",
    "num_first_born_girls = tf.size(birth1) - tf.reduce_sum(birth1)\n",
    "num_second_born_boys_after_first_born_girl = tf.reduce_sum(birth2[female_first_bool])\n",
    "print(\"There were {:d} first born girls.\\nWhen we consider these parents' second births, {:d} were boys and {:d} were girls\".format(num_first_born_girls, num_second_born_boys_after_first_born_girl, num_first_born_girls - num_second_born_boys_after_first_born_girl))"
   ]
  },
  {
   "cell_type": "code",
   "execution_count": 208,
   "metadata": {},
   "outputs": [
    {
     "data": {
      "image/png": "[encoded data removed]",
      "text/plain": [
       "<Figure size 432x288 with 1 Axes>"
      ]
     },
     "metadata": {
      "needs_background": "light"
     },
     "output_type": "display_data"
    }
   ],
   "source": [
    "sim = posterior_prediction_simulation(49, samples)\n",
    "sim = tf.cast(sim, dtype=tf.int32)\n",
    "_, ax = plt.subplots()\n",
    "ax.hist(sim[0,:].numpy(), bins=50);"
   ]
  },
  {
   "cell_type": "code",
   "execution_count": 209,
   "metadata": {},
   "outputs": [
    {
     "name": "stdout",
     "output_type": "stream",
     "text": [
      "There were 51 first born boys.\n",
      "When we consider these parents' second births, 30 were girls and 21 were boys\n"
     ]
    }
   ],
   "source": [
    "# The model clearly doesn't look good in this light.\n",
    "# It's a very small sample size, so one should be careful about jumping to conclusions.\n",
    "# One possible explanation, however, is that many parents might desire a mix of genders/sexes.\n",
    "# If this is the case, then many parents might stop at 2 kids if and only if they get 1 boy and 1 girl\n",
    "# In this example, if these couples got a second girl then they might keep trying, in which case they \n",
    "# are no longer part of the dataset (the key is that this dataset includes families that have exactly 2 kids)\n",
    "\n",
    "# we could quickly test this by making sure that the opposite case also shows a bias\n",
    "# (e.g. to discount an alternative theory that parents keep trying until they have a boy, which means some\n",
    "# potential 2 kid families might stop at a single boy)\n",
    "# (i.e. we predict that for first born boys there shoudl be a bias towards second born girls)\n",
    "\n",
    "male_first_bool = tf.cast(birth1, dtype=tf.bool)\n",
    "num_first_born_boys = tf.reduce_sum(birth1)\n",
    "num_second_born_girls_after_first_born_boy = num_first_born_boys - tf.reduce_sum(birth2[male_first_bool])\n",
    "print(\"There were {:d} first born boys.\\nWhen we consider these parents' second births, {:d} were girls and {:d} were boys\".format(num_first_born_boys, num_second_born_girls_after_first_born_boy, num_first_born_boys - num_second_born_girls_after_first_born_boy))"
   ]
  },
  {
   "cell_type": "code",
   "execution_count": 210,
   "metadata": {},
   "outputs": [],
   "source": [
    "# as predicted there is a bias"
   ]
  },
  {
   "cell_type": "code",
   "execution_count": null,
   "metadata": {},
   "outputs": [],
   "source": []
  }
 ],
 "metadata": {
  "kernelspec": {
   "display_name": "Python 3",
   "language": "python",
   "name": "python3"
  },
  "language_info": {
   "codemirror_mode": {
    "name": "ipython",
    "version": 3
   },
   "file_extension": ".py",
   "mimetype": "text/x-python",
   "name": "python",
   "nbconvert_exporter": "python",
   "pygments_lexer": "ipython3",
   "version": "3.6.9"
  }
 },
 "nbformat": 4,
 "nbformat_minor": 5
}
